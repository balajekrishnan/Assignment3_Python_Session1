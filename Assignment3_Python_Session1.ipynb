{
 "cells": [
  {
   "cell_type": "code",
   "execution_count": 4,
   "metadata": {},
   "outputs": [
    {
     "name": "stdout",
     "output_type": "stream",
     "text": [
      "Please Enter Your First Name: Balaje\n",
      "Please Enter Your Last Name: Krishnan\n",
      "Reversed Name: nanhsirK ejalaB\n"
     ]
    }
   ],
   "source": [
    "# Get First and Last Name\n",
    "First_Name = input(\"Please Enter Your First Name: \")\n",
    "Last_Name = input (\"Please Enter Your Last Name: \")\n",
    "\n",
    "Full_Name = First_Name + \" \" + Last_Name\n",
    "length=len(Full_Name)\n",
    "Reversed_Name = ''\n",
    "\n",
    "while length:\n",
    "    length = length-1\n",
    "    Reversed_Name = Reversed_Name + Full_Name[length]\n",
    "    \n",
    "print(\"Reversed Name: \" + Reversed_Name)\n",
    "    \n",
    "    \n",
    "    "
   ]
  },
  {
   "cell_type": "code",
   "execution_count": null,
   "metadata": {},
   "outputs": [],
   "source": []
  }
 ],
 "metadata": {
  "kernelspec": {
   "display_name": "Python 3",
   "language": "python",
   "name": "python3"
  },
  "language_info": {
   "codemirror_mode": {
    "name": "ipython",
    "version": 3
   },
   "file_extension": ".py",
   "mimetype": "text/x-python",
   "name": "python",
   "nbconvert_exporter": "python",
   "pygments_lexer": "ipython3",
   "version": "3.6.4"
  }
 },
 "nbformat": 4,
 "nbformat_minor": 2
}
